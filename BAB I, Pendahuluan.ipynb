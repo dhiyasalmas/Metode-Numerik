{
 "cells": [
  {
   "cell_type": "markdown",
   "metadata": {},
   "source": [
    "#  <center>**BAB I : PENGANTAR**</center> \n",
    "\n",
    "**Dhiya Salma Salsabila/24923304**"
   ]
  },
  {
   "cell_type": "markdown",
   "metadata": {},
   "source": [
    "Dalam modul ini akan digunakan **bahasa pemrograman python**, untuk dasar dasar pemrograman python dapat di pelajari [disini](https://github.com/dhiyasalmas/Python-Introduction/blob/main/Dasar_Python.ipynb)."
   ]
  },
  {
   "cell_type": "markdown",
   "metadata": {},
   "source": [
    "**Metode numerik**, merupakan **cara sistematis untuk menyelesaikan persoalan matematika dengan operasi sederhana**.\n",
    "\n",
    "Perbedaan antara metode numerik dan analitik ialah, dalam **metode analitik pemecahan dilakukan menggunakan rumus atau teorema dalam matematika**. Sedangkan dalam **metode numerik pemecahan dilakukan dengan pendekatan operasi aritmatika**."
   ]
  },
  {
   "cell_type": "markdown",
   "metadata": {},
   "source": [
    "**Pokok bahasan dalam modul ini akan menerangkan:**\n",
    "1. **Deret Taylor**\n",
    "> sangat penting mempelajarinya untuk pendekatan persamaan yang akan di hitung secara numerik.\n",
    "\n",
    "2. **Persamaan Non Linier**\n",
    "> persamaan matematika dengan pangkat variabel lebih dari satu. contoh $ x^2 + y^2 = 1$.\n",
    "\n",
    "3. **Persamaan Linier**\n",
    "> persamaan matematika dengan satu pangkat variabel. contoh $ 2x + 3y = 7$\n",
    "\n",
    "4. **Integral**\n",
    "> digunakan untuk menghitung luas permukaan di bawah kurva yang biasanya memiliki bentuk abstrak sehingga sulit di hitung dengan rumus yang sudah ada.\n",
    "\n",
    "5. **Turunan**\n",
    "> digunakan untuk menyatakan laju perubahan suatu variabel terhadap variabel lainnya.\n",
    "\n",
    "6. **Persamaan Diferensial Biasa**\n",
    "> persamaan yang melibatkan fungsi dan turunannya"
   ]
  },
  {
   "cell_type": "markdown",
   "metadata": {},
   "source": [
    "Dalam membuat modul ini saya menggunakan referensi utama sebagai berikut :\n",
    "1. [Mohammad Rosidi](https://bookdown.org/moh_rosidi2610/Metode_Numerik/)\n",
    "2. [Rinaldi Munir](https://informatika.stei.itb.ac.id/~rinaldi.munir/Buku/Metode%20Numerik/pdf/)\n",
    "3. Numerical Methods in Chemical Engineering Using Python and Simulink by Nayef Ghasem"
   ]
  }
 ],
 "metadata": {
  "language_info": {
   "name": "python"
  }
 },
 "nbformat": 4,
 "nbformat_minor": 2
}
