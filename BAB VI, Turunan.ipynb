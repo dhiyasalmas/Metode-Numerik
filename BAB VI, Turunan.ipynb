{
 "cells": [
  {
   "cell_type": "markdown",
   "metadata": {},
   "source": [
    "#  <center>**BAB VI : TURUNAN**</center> \n",
    "\n",
    "**Dhiya Salma Salsabila/24923304**"
   ]
  }
 ],
 "metadata": {
  "language_info": {
   "name": "python"
  }
 },
 "nbformat": 4,
 "nbformat_minor": 2
}
