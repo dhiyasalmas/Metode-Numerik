{
 "cells": [
  {
   "cell_type": "markdown",
   "metadata": {},
   "source": [
    "#  <center>**BAB VI : TURUNAN**</center> \n",
    "\n",
    "**Dhiya Salma Salsabila/24923304**"
   ]
  },
  {
   "cell_type": "markdown",
   "metadata": {},
   "source": [
    "### **Metode Selisih Maju (Forward Difference Method)**"
   ]
  },
  {
   "cell_type": "code",
   "execution_count": 2,
   "metadata": {},
   "outputs": [
    {
     "name": "stdout",
     "output_type": "stream",
     "text": [
      "Turunan pertama dari sin(x) di x = pi/4 adalah sekitar 0.707103\n"
     ]
    }
   ],
   "source": [
    "import numpy as np\n",
    "\n",
    "def forward_difference(f, x, h=1e-5):\n",
    "    \"\"\"\n",
    "    Menghitung turunan pertama dari fungsi f di titik x menggunakan metode selisih maju.\n",
    "    \n",
    "    Parameters:\n",
    "    f (function): Fungsi yang akan diturunkan.\n",
    "    x (float): Titik di mana turunan dihitung.\n",
    "    h (float): Langkah kecil. Default adalah 1e-5.\n",
    "    \n",
    "    Returns:\n",
    "    float: Nilai pendekatan turunan pertama dari f di x.\n",
    "    \"\"\"\n",
    "    return (f(x + h) - f(x)) / h\n",
    "\n",
    "# Contoh penggunaan\n",
    "# Misalkan kita ingin menghitung turunan dari fungsi f(x) = sin(x) di x = pi/4\n",
    "def func(x):\n",
    "    return np.sin(x)\n",
    "\n",
    "x = np.pi / 4\n",
    "h = 1e-5\n",
    "\n",
    "# Hitung turunan\n",
    "turunan = forward_difference(func, x, h)\n",
    "\n",
    "print(f\"Turunan pertama dari sin(x) di x = pi/4 adalah sekitar {turunan:.6f}\")"
   ]
  },
  {
   "cell_type": "markdown",
   "metadata": {},
   "source": [
    "### **Metode Selisih Mundur (Backward Difference Method)**"
   ]
  },
  {
   "cell_type": "code",
   "execution_count": 3,
   "metadata": {},
   "outputs": [
    {
     "name": "stdout",
     "output_type": "stream",
     "text": [
      "Turunan pertama dari sin(x) di x = pi/4 adalah sekitar 0.707110\n"
     ]
    }
   ],
   "source": [
    "import numpy as np\n",
    "\n",
    "def backward_difference(f, x, h=1e-5):\n",
    "    \"\"\"\n",
    "    Menghitung turunan pertama dari fungsi f di titik x menggunakan metode selisih mundur.\n",
    "    \n",
    "    Parameters:\n",
    "    f (function): Fungsi yang akan diturunkan.\n",
    "    x (float): Titik di mana turunan dihitung.\n",
    "    h (float): Langkah kecil. Default adalah 1e-5.\n",
    "    \n",
    "    Returns:\n",
    "    float: Nilai pendekatan turunan pertama dari f di x.\n",
    "    \"\"\"\n",
    "    return (f(x) - f(x - h)) / h\n",
    "\n",
    "# Contoh penggunaan\n",
    "# Misalkan kita ingin menghitung turunan dari fungsi f(x) = sin(x) di x = pi/4\n",
    "def func(x):\n",
    "    return np.sin(x)\n",
    "\n",
    "x = np.pi / 4\n",
    "h = 1e-5\n",
    "\n",
    "# Hitung turunan\n",
    "turunan = backward_difference(func, x, h)\n",
    "\n",
    "print(f\"Turunan pertama dari sin(x) di x = pi/4 adalah sekitar {turunan:.6f}\")"
   ]
  },
  {
   "cell_type": "markdown",
   "metadata": {},
   "source": [
    "### **Metode Selisih Tengah (Central Difference Method)**"
   ]
  },
  {
   "cell_type": "code",
   "execution_count": 4,
   "metadata": {},
   "outputs": [
    {
     "name": "stdout",
     "output_type": "stream",
     "text": [
      "Turunan pertama dari sin(x) di x = pi/4 adalah sekitar 0.707110\n"
     ]
    }
   ],
   "source": [
    "import numpy as np\n",
    "\n",
    "def backward_difference(f, x, h=1e-5):\n",
    "    \"\"\"\n",
    "    Menghitung turunan pertama dari fungsi f di titik x menggunakan metode selisih mundur.\n",
    "    \n",
    "    Parameters:\n",
    "    f (function): Fungsi yang akan diturunkan.\n",
    "    x (float): Titik di mana turunan dihitung.\n",
    "    h (float): Langkah kecil. Default adalah 1e-5.\n",
    "    \n",
    "    Returns:\n",
    "    float: Nilai pendekatan turunan pertama dari f di x.\n",
    "    \"\"\"\n",
    "    return (f(x) - f(x - h)) / h\n",
    "\n",
    "# Contoh penggunaan\n",
    "# Misalkan kita ingin menghitung turunan dari fungsi f(x) = sin(x) di x = pi/4\n",
    "def func(x):\n",
    "    return np.sin(x)\n",
    "\n",
    "x = np.pi / 4\n",
    "h = 1e-5\n",
    "\n",
    "# Hitung turunan\n",
    "turunan = backward_difference(func, x, h)\n",
    "\n",
    "print(f\"Turunan pertama dari sin(x) di x = pi/4 adalah sekitar {turunan:.6f}\")"
   ]
  },
  {
   "cell_type": "markdown",
   "metadata": {},
   "source": [
    "### **Turunan Kedua**"
   ]
  },
  {
   "cell_type": "code",
   "execution_count": 5,
   "metadata": {},
   "outputs": [
    {
     "name": "stdout",
     "output_type": "stream",
     "text": [
      "Turunan kedua dari sin(x) di x = pi/4 adalah sekitar -0.707108\n"
     ]
    }
   ],
   "source": [
    "import numpy as np\n",
    "\n",
    "def second_central_difference(f, x, h=1e-5):\n",
    "    \"\"\"\n",
    "    Menghitung turunan kedua dari fungsi f di titik x menggunakan metode selisih tengah.\n",
    "    \n",
    "    Parameters:\n",
    "    f (function): Fungsi yang akan diturunkan.\n",
    "    x (float): Titik di mana turunan dihitung.\n",
    "    h (float): Langkah kecil. Default adalah 1e-5.\n",
    "    \n",
    "    Returns:\n",
    "    float: Nilai pendekatan turunan kedua dari f di x.\n",
    "    \"\"\"\n",
    "    return (f(x + h) - 2 * f(x) + f(x - h)) / h**2\n",
    "\n",
    "# Contoh penggunaan\n",
    "# Misalkan kita ingin menghitung turunan kedua dari fungsi f(x) = sin(x) di x = pi/4\n",
    "def func(x):\n",
    "    return np.sin(x)\n",
    "\n",
    "x = np.pi / 4\n",
    "h = 1e-5\n",
    "\n",
    "# Hitung turunan kedua\n",
    "turunan_kedua = second_central_difference(func, x, h)\n",
    "\n",
    "print(f\"Turunan kedua dari sin(x) di x = pi/4 adalah sekitar {turunan_kedua:.6f}\")"
   ]
  }
 ],
 "metadata": {
  "kernelspec": {
   "display_name": "Python 3",
   "language": "python",
   "name": "python3"
  },
  "language_info": {
   "codemirror_mode": {
    "name": "ipython",
    "version": 3
   },
   "file_extension": ".py",
   "mimetype": "text/x-python",
   "name": "python",
   "nbconvert_exporter": "python",
   "pygments_lexer": "ipython3",
   "version": "3.12.0"
  }
 },
 "nbformat": 4,
 "nbformat_minor": 2
}
