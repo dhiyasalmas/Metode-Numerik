{
 "cells": [
  {
   "cell_type": "markdown",
   "metadata": {},
   "source": [
    "#  <center>**BAB II : DERET TAYLOR**</center> \n",
    "\n",
    "**Dhiya Salma Salsabila/24923304**"
   ]
  },
  {
   "cell_type": "markdown",
   "metadata": {},
   "source": [
    "Deret Taylor merupakan suatu alat yang dapat digunakan untuk menurunkan suatu metode numerik. \n",
    "Berikut merupakan deret taylor:"
   ]
  },
  {
   "cell_type": "markdown",
   "metadata": {},
   "source": [
    "$$ f(x) = f(x_0) + \\frac{(x-x_0)}{1!} f'(x_0) + \\frac{(x-x_0)^2}{2!}f^\"(x_0) + \\dots + \\frac{(x-x_0)^m}{m!}f^m(x_0) + \\dots $$"
   ]
  },
  {
   "cell_type": "markdown",
   "metadata": {},
   "source": [
    "Persamaan ini memiliki panjang yang tak berhingga, biasanya untuk memudahkan penulisan maka dimisalkan $ h = x-x_0 $, maka persamaan menjadi:"
   ]
  },
  {
   "cell_type": "markdown",
   "metadata": {},
   "source": [
    "$$ f(x) = f(x_0) + \\frac{h}{1!} f'(x_0) + \\frac{h^2}{2!}f^\"(x_0) + \\dots + \\frac{h^m}{m!}f^m(x_0) + \\dots $$"
   ]
  },
  {
   "cell_type": "markdown",
   "metadata": {},
   "source": [
    "Kasus khusus dimana nilai $ x_0 = 0$ maka deret ini bernama deret Maclaurin. "
   ]
  },
  {
   "cell_type": "markdown",
   "metadata": {},
   "source": [
    "$$ f(x) = f(0) + \\frac{(x-0)}{1!} f'(0) + \\frac{(x-0)^2}{2!}f^\"(0) + \\dots + \\frac{(x-0)^m}{m!}f^m(0) + \\dots $$"
   ]
  },
  {
   "cell_type": "markdown",
   "metadata": {},
   "source": [
    "Salah satu fungsi deret taylor dalam metode numerik biasanya digunakan dalam penurunan numerik dimana terdapat metode *finite difference*, biasanya ada 3 *finite difference* yaitu *forward, backward, dan central*."
   ]
  },
  {
   "cell_type": "markdown",
   "metadata": {},
   "source": [
    "Dalam metode **finite difference**, metode deret taylor digunakan untuk mencari nilai turunannya. Misalkan dalam **forward difference** metode ini menggunakan nilai fungsi pada titik saat ini $x_i$ dan titik berikutnya $x_{i+1}$ untuk memperkirakan nilai turunan. Sebagai contoh **dicari nilai turunan pertama** dengan menggunakan deret taylor, maka dengan menggunakan deret taylor dalam *forward difference* untuk turunan pertama akan didapatkan:"
   ]
  },
  {
   "cell_type": "markdown",
   "metadata": {},
   "source": [
    "$$ f(x_{i+1}) = f(x_i) + \\frac{(x_{i+1}-x_i)}{1!} f'(x_i) + \\frac{(x_{i+1}-x_i)^2}{2!}f^\"(x_i) + \\dots + \\frac{(x_{i+1}-x_i)^m}{m!}f^m(x_i) + \\dots $$"
   ]
  },
  {
   "cell_type": "markdown",
   "metadata": {},
   "source": [
    "Jika dimisalkan $ h = (x_{i+1}-x_i)$, maka persamaan menjadi\n",
    "$$ f(x_{i+1}) = f(x_i) + \\frac{h}{1!} f'(x_i) + \\dots $$"
   ]
  },
  {
   "cell_type": "markdown",
   "metadata": {},
   "source": [
    "atau dapat dituliskan sebagai berikut:\n",
    "$$ f(x_{i+1}) = f(x_i) + h f'(x_i) + \\dots $$\n",
    "$$  - h f'(x_i)=  -f(x_{i+1}) + f(x_i)  + \\dots$$\n",
    "$$  f'(x_i)=  \\frac{-f(x_{i+1}) + f(x_i)}{-h}  + \\dots$$\n",
    "maka didapatkan turunan pertama dari *Forwarad Difference* :\n",
    "$$  f'(x_i)=  \\frac{f(x_{i+1}) - f(x_i)}{h}  + \\dots$$"
   ]
  },
  {
   "cell_type": "markdown",
   "metadata": {},
   "source": [
    "Sedangkan untuk *Backward difference* menggunakan deret taylor dimana menggunakan nilai saat ini $x_i$ dan titik sebelumnya $x_{i-1}$, persamaan menjadi :"
   ]
  },
  {
   "cell_type": "markdown",
   "metadata": {},
   "source": [
    "$$ f(x_{i-1}) = f(x_i) - \\frac{(x_i-x_{i-1})}{1!} f'(x_i) + \\frac{(x_i-x_{i-1})^2}{2!}f\"(x_i) - \\dots + \\frac{(x_i-x_{i-1})^m}{m!}f^m(x_i) + \\dots $$"
   ]
  },
  {
   "cell_type": "markdown",
   "metadata": {},
   "source": [
    "Jika dimisalkan $ h = (x_i-x_{i-1})$, maka persamaan menjadi\n",
    "$$ f(x_{i-1}) = f(x_i) - \\frac{h}{1!} f'(x_i)  + \\dots $$\n",
    "$$ f(x_{i-1}) = f(x_i) - h f'(x_i)  + \\dots $$\n",
    "$$  h f'(x_i)  = f(x_i) - f(x_{i-1})  + \\dots $$"
   ]
  },
  {
   "cell_type": "markdown",
   "metadata": {},
   "source": [
    "Maka didapatkan turunan pertama dari *Backward difference* :\n",
    "$$  f'(x_i)  = \\frac{f(x_i) - f(x_{i-1})}{h}  + \\dots $$"
   ]
  },
  {
   "cell_type": "markdown",
   "metadata": {},
   "source": [
    "Untuk *Central Difference* didapatkan dari hasil penjumlahan antara *Forward* dan *Backward*, sebagai berikut:\n",
    "$$ f'(x_i)  = \\frac{f_{x+i} - f(x_{i-1})}{2h}  $$"
   ]
  }
 ],
 "metadata": {
  "language_info": {
   "name": "python"
  }
 },
 "nbformat": 4,
 "nbformat_minor": 2
}
