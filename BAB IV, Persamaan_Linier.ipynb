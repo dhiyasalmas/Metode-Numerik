{
 "cells": [
  {
   "cell_type": "markdown",
   "metadata": {},
   "source": [
    "#  <center>**BAB IV : PERSAMAAN LINIER**</center> \n",
    "\n",
    "**Dhiya Salma Salsabila/24923304**"
   ]
  },
  {
   "cell_type": "markdown",
   "metadata": {},
   "source": [
    "## **Metode Langsung**\n",
    "\n",
    "Metode langsung adalah metode yang secara teoritis memberikan solusi yang eksak untuk sistem dalam jumlah langkah yang terbatas."
   ]
  },
  {
   "cell_type": "markdown",
   "metadata": {},
   "source": [
    "### **Gaussian elimination with backward substitution**\n"
   ]
  },
  {
   "cell_type": "code",
   "execution_count": 1,
   "metadata": {},
   "outputs": [
    {
     "name": "stdout",
     "output_type": "stream",
     "text": [
      "Solusi x: [-1.  2.  0.  1.]\n"
     ]
    }
   ],
   "source": [
    "import numpy as np\n",
    "\n",
    "def gaussian_elimination(A, b):\n",
    "    A = A.astype(float)  # Mengonversi matriks A menjadi float64\n",
    "    b = b.astype(float)  # Mengonversi vektor b menjadi float64\n",
    "    n = len(b)\n",
    "    # Langkah Eliminasi\n",
    "    for k in range(n-1):\n",
    "        # Pengecekan elemen diagonal utama\n",
    "        if A[k, k] == 0:\n",
    "            # Cari baris lain dengan elemen non-nol di kolom k untuk ditukar\n",
    "            for i in range(k+1, n):\n",
    "                if A[i, k] != 0:\n",
    "                    A[[k, i]] = A[[i, k]]  # Tukar baris\n",
    "                    b[[k, i]] = b[[i, k]]\n",
    "                    break\n",
    "        # Hitung faktor pengali dan lakukan eliminasi\n",
    "        for i in range(k+1, n):\n",
    "            m = A[i, k] / A[k, k]\n",
    "            A[i, k+1:] -= m * A[k, k+1:]\n",
    "            b[i] -= m * b[k]\n",
    "            \n",
    "    # Substitusi Mundur\n",
    "    x = np.zeros(n)\n",
    "    for i in range(n-1, -1, -1):\n",
    "        x[i] = (b[i] - np.dot(A[i, i+1:], x[i+1:])) / A[i, i]\n",
    "    return x\n",
    "\n",
    "# Contoh\n",
    "A = np.array([[1, 1, 0, 3],\n",
    "              [2, 1, -1, 1],\n",
    "              [3, -1, -1, 2],\n",
    "              [-1, 2, 3, -1]])\n",
    "b = np.array([4, 1, -3, 4])\n",
    "\n",
    "x = gaussian_elimination(A, b)\n",
    "print(\"Solusi x:\", x)"
   ]
  },
  {
   "cell_type": "markdown",
   "metadata": {},
   "source": [
    "### **Pivoting Parsial**"
   ]
  },
  {
   "cell_type": "code",
   "execution_count": 2,
   "metadata": {},
   "outputs": [
    {
     "name": "stdout",
     "output_type": "stream",
     "text": [
      "Solusi x: [10.  1.]\n"
     ]
    }
   ],
   "source": [
    "import numpy as np\n",
    "\n",
    "def partial_pivot(A, b):\n",
    "    n = len(A)\n",
    "    for k in range(n-1):\n",
    "        max_index = np.argmax(abs(A[k:, k])) + k  # Cari indeks baris dengan elemen terbesar di kolom k\n",
    "        if max_index != k:\n",
    "            A[[k, max_index]] = A[[max_index, k]]  # Tukar baris k dengan baris max_index\n",
    "            b[[k, max_index]] = b[[max_index, k]]\n",
    "        for i in range(k+1, n):\n",
    "            m = A[i, k] / A[k, k]\n",
    "            A[i, k:] -= m * A[k, k:]  # Kurangi baris i dengan m kali baris k\n",
    "            b[i] -= m * b[k]\n",
    "\n",
    "def back_substitution(A, b):\n",
    "    n = len(A)\n",
    "    x = np.zeros(n)\n",
    "    for i in range(n-1, -1, -1):  # Mulai dari baris terakhir dan mundur\n",
    "        x[i] = (b[i] - np.dot(A[i, i+1:], x[i+1:])) / A[i, i]\n",
    "    return x\n",
    "\n",
    "def gaussian_elimination(A, b):\n",
    "    partial_pivot(A, b)\n",
    "    return back_substitution(A, b)\n",
    "\n",
    "# Contoh penggunaan\n",
    "A = np.array([[0.003, 59.14], [5.291, -6.130]], dtype=float)\n",
    "b = np.array([59.17, 46.78], dtype=float)\n",
    "\n",
    "x = gaussian_elimination(A, b)\n",
    "print(\"Solusi x:\", x)"
   ]
  },
  {
   "cell_type": "markdown",
   "metadata": {},
   "source": [
    "### **Scaled Python Partial Pivoting**"
   ]
  },
  {
   "cell_type": "code",
   "execution_count": 3,
   "metadata": {},
   "outputs": [
    {
     "name": "stdout",
     "output_type": "stream",
     "text": [
      "Solusi x: [10.  1.]\n"
     ]
    }
   ],
   "source": [
    "import numpy as np\n",
    "\n",
    "def scaled_partial_pivoting(A, b):\n",
    "    n = len(b)\n",
    "    s = np.zeros(n)\n",
    "    for i in range(n):\n",
    "        s[i] = max(abs(A[i, :]))\n",
    "    for k in range(n-1):\n",
    "        # Pilih baris pivot berdasarkan skala relatif\n",
    "        pivot_row = np.argmax(abs(A[k:, k]) / s[k:]) + k\n",
    "        \n",
    "        # Tukar baris jika perlu\n",
    "        if pivot_row != k:\n",
    "            A[[k, pivot_row]] = A[[pivot_row, k]]\n",
    "            b[[k, pivot_row]] = b[[pivot_row, k]]\n",
    "            s[[k, pivot_row]] = s[[pivot_row, k]]\n",
    "        \n",
    "        for i in range(k+1, n):\n",
    "            # Lakukan eliminasi Gauss\n",
    "            factor = A[i, k] / A[k, k]\n",
    "            A[i, k+1:] -= factor * A[k, k+1:]\n",
    "            b[i] -= factor * b[k]\n",
    "    # Lakukan substitusi balik untuk mendapatkan solusi\n",
    "    x = np.zeros(n)\n",
    "    for i in range(n-1, -1, -1):\n",
    "        x[i] = (b[i] - np.dot(A[i, i+1:], x[i+1:])) / A[i, i]\n",
    "    return x\n",
    "\n",
    "# Contoh penggunaan\n",
    "A = np.array([[30, 591400], [5.291, -6.130]], dtype=float)\n",
    "b = np.array([591700, 46.78], dtype=float)\n",
    "\n",
    "x = scaled_partial_pivoting(A, b)\n",
    "print(\"Solusi x:\", x)"
   ]
  },
  {
   "cell_type": "markdown",
   "metadata": {},
   "source": [
    "### **Faktorisasi LU**"
   ]
  },
  {
   "cell_type": "code",
   "execution_count": 4,
   "metadata": {},
   "outputs": [
    {
     "name": "stdout",
     "output_type": "stream",
     "text": [
      "Matriks L:\n",
      "[[ 1.  0.  0.  0.]\n",
      " [ 2.  1.  0.  0.]\n",
      " [ 3.  4.  1.  0.]\n",
      " [-1. -3.  0.  1.]]\n",
      "Matriks U:\n",
      "[[  1   1   0   3]\n",
      " [  0  -1  -1  -5]\n",
      " [  0   0   3  13]\n",
      " [  0   0   0 -13]]\n"
     ]
    }
   ],
   "source": [
    "import numpy as np\n",
    "\n",
    "def LU_decomposition(A):\n",
    "    n = len(A)\n",
    "    L = np.eye(n)\n",
    "    U = np.copy(A)\n",
    "\n",
    "    for k in range(n-1):\n",
    "        for i in range(k+1, n):\n",
    "            if U[k, k] == 0:\n",
    "                raise ValueError(\"Pivot nol ditemukan. Faktorisasi LU tidak dapat dilakukan.\")\n",
    "            L[i, k] = U[i, k] / U[k, k]\n",
    "            for j in range(k, n):\n",
    "                U[i, j] -= L[i, k] * U[k, j]\n",
    "\n",
    "    return L, U\n",
    "\n",
    "# Contoh penggunaan\n",
    "A = np.array([[1, 1, 0, 3],\n",
    "              [2, 1, -1, 1],\n",
    "              [3, -1, -1, 2],\n",
    "              [-1, 2, 3, -1]])\n",
    "\n",
    "L, U = LU_decomposition(A)\n",
    "print(\"Matriks L:\")\n",
    "print(L)\n",
    "print(\"Matriks U:\")\n",
    "print(U)"
   ]
  },
  {
   "cell_type": "markdown",
   "metadata": {},
   "source": [
    "### **Faktorisasi LDL**"
   ]
  },
  {
   "cell_type": "code",
   "execution_count": 5,
   "metadata": {},
   "outputs": [
    {
     "name": "stdout",
     "output_type": "stream",
     "text": [
      "Matriks segitiga bawah L:\n",
      "[[1. 0. 0.]\n",
      " [2. 1. 0.]\n",
      " [3. 2. 1.]]\n",
      "Vektor diagonal d:\n",
      "[ 2.  1. -3.]\n"
     ]
    }
   ],
   "source": [
    "import numpy as np\n",
    "\n",
    "def LDLT_decomposition(A):\n",
    "    n = len(A)\n",
    "    L = np.zeros((n, n))\n",
    "    d = np.zeros(n)\n",
    "\n",
    "    for i in range(n):\n",
    "        d[i] = A[i][i] - np.sum(np.square(L[i][:i]) * d[:i])\n",
    "\n",
    "        for j in range(i+1, n):\n",
    "            L[j][i] = (A[j][i] - np.sum(L[j][:i] * L[i][:i] * d[:i])) / d[i]\n",
    "\n",
    "        L[i][i] = 1\n",
    "\n",
    "    return L, d\n",
    "\n",
    "# Example usage:\n",
    "A = np.array([[2, 4, 6],\n",
    "              [4, 9, 14],\n",
    "              [6, 14, 19]])\n",
    "\n",
    "L, d = LDLT_decomposition(A)\n",
    "print(\"Matriks segitiga bawah L:\")\n",
    "print(L)\n",
    "print(\"Vektor diagonal d:\")\n",
    "print(d)"
   ]
  },
  {
   "cell_type": "markdown",
   "metadata": {},
   "source": [
    "### **Faktorisasi Cholesky**"
   ]
  },
  {
   "cell_type": "code",
   "execution_count": 6,
   "metadata": {},
   "outputs": [
    {
     "name": "stdout",
     "output_type": "stream",
     "text": [
      "Lower triangular matrix G:\n",
      "[[2. 0. 0.]\n",
      " [2. 1. 0.]\n",
      " [3. 2. 3.]]\n"
     ]
    },
    {
     "name": "stderr",
     "output_type": "stream",
     "text": [
      "C:\\Users\\Asus\\AppData\\Local\\Temp\\ipykernel_12736\\3755568674.py:10: DeprecationWarning: Calling np.sum(generator) is deprecated, and in the future will give a different result. Use np.sum(np.fromiter(generator)) or the python sum builtin instead.\n",
      "  G[i][j] = np.sqrt(A[i][i] - np.sum(G[i][k]**2 for k in range(j)))\n",
      "C:\\Users\\Asus\\AppData\\Local\\Temp\\ipykernel_12736\\3755568674.py:12: DeprecationWarning: Calling np.sum(generator) is deprecated, and in the future will give a different result. Use np.sum(np.fromiter(generator)) or the python sum builtin instead.\n",
      "  G[i][j] = (A[i][j] - np.sum(G[i][k] * G[j][k] for k in range(j))) / G[j][j]\n"
     ]
    }
   ],
   "source": [
    "import numpy as np\n",
    "\n",
    "def cholesky_decomposition(A):\n",
    "    n = len(A)\n",
    "    G = np.zeros_like(A, dtype=float)\n",
    "    \n",
    "    for i in range(n):\n",
    "        for j in range(i + 1):\n",
    "            if i == j:\n",
    "                G[i][j] = np.sqrt(A[i][i] - np.sum(G[i][k]**2 for k in range(j)))\n",
    "            else:\n",
    "                G[i][j] = (A[i][j] - np.sum(G[i][k] * G[j][k] for k in range(j))) / G[j][j]\n",
    "        \n",
    "        if G[j][j] <= 0:\n",
    "            print(\"Matrix is not positive definite.\")\n",
    "            return None\n",
    "    \n",
    "    return G\n",
    "\n",
    "# Example usage:\n",
    "A = np.array([[4, 4, 6],\n",
    "              [4, 5, 8],\n",
    "              [6, 8, 22]])\n",
    "\n",
    "G = cholesky_decomposition(A)\n",
    "if G is not None:\n",
    "    print(\"Lower triangular matrix G:\")\n",
    "    print(G)"
   ]
  },
  {
   "cell_type": "markdown",
   "metadata": {},
   "source": [
    "### **Faktorisasi LU untuk matriks tridiagonal**"
   ]
  },
  {
   "cell_type": "code",
   "execution_count": 7,
   "metadata": {},
   "outputs": [
    {
     "name": "stdout",
     "output_type": "stream",
     "text": [
      "Solusi x: [0. 0. 0. 1.]\n",
      "Matriks L:\n",
      "[[ 2.          0.          0.          0.        ]\n",
      " [-1.          1.5         0.          0.        ]\n",
      " [ 0.         -1.          1.33333333  0.        ]\n",
      " [ 0.          0.         -1.          1.25      ]]\n",
      "Matriks U:\n",
      "[[ 1.         -0.5         0.          0.        ]\n",
      " [ 0.          1.         -0.66666667  0.        ]\n",
      " [ 0.          0.          1.         -0.75      ]\n",
      " [ 0.          0.          0.          1.        ]]\n"
     ]
    }
   ],
   "source": [
    "import numpy as np\n",
    "\n",
    "def solve_LU_system(n, A):\n",
    "    # Step 1\n",
    "    L = np.zeros((n, n))\n",
    "    U = np.eye(n)\n",
    "    l11 = A[0, 0]\n",
    "    u12 = A[0, 1] / l11\n",
    "    z1 = A[0, -1] / l11\n",
    "    \n",
    "    # Step 2\n",
    "    L[0, 0] = l11\n",
    "    U[0, 1] = u12\n",
    "    z = np.zeros(n)\n",
    "    z[0] = z1\n",
    "    for i in range(1, n-1):\n",
    "        L[i, i-1] = A[i, i-1]\n",
    "        L[i, i] = A[i, i] - L[i, i-1] * U[i-1, i]\n",
    "        U[i, i+1] = A[i, i+1] / L[i, i]\n",
    "        z[i] = (A[i, -1] - L[i, i-1] * z[i-1]) / L[i, i]\n",
    "    \n",
    "    # Step 3\n",
    "    L[n-1, n-2] = A[n-1, n-2]\n",
    "    L[n-1, n-1] = A[n-1, n-1] - L[n-1, n-2] * U[n-2, n-1]\n",
    "    z[n-1] = (A[n-1, -1] - L[n-1, n-2] * z[n-2]) / L[n-1, n-1]\n",
    "    \n",
    "    # Step 4\n",
    "    x = np.zeros(n)\n",
    "    x[n-1] = z[n-1]\n",
    "    \n",
    "    # Step 5\n",
    "    for i in range(n-2, -1, -1):\n",
    "        x[i] = z[i] - U[i, i+1] * x[i+1]\n",
    "    \n",
    "    return x, L, U\n",
    "\n",
    "# Contoh penggunaan\n",
    "n = 4\n",
    "A = np.array([[2, -1, 0, 0], [-1, 2, -1, 0], [0, -1, 2, -1], [0, 0, -1, 2]])\n",
    "x, L, U = solve_LU_system(n, A)\n",
    "print(\"Solusi x:\", x)\n",
    "print(\"Matriks L:\")\n",
    "print(L)\n",
    "print(\"Matriks U:\")\n",
    "print(U)"
   ]
  },
  {
   "cell_type": "markdown",
   "metadata": {},
   "source": [
    "## **Metode Iteratif**\n",
    "\n",
    "Teknik iterasi untuk menyelesaikan sistem linier $A\\vec{x} = \\vec{b}$ dimulai dengan aproksimasi awal $\\vec{x}^{(0)}$ ke solusi $\\vec{x}$ dan menghasilkan barisan vektor  $ \\{ \\vec{x}^{(0)},  \\vec{x}^{(1)},  \\vec{x}^{(2)}, ... \\}$  yang konvergen ke $\\vec{x}$. Metode iterasi mempunyai kelebihan, yaitu efisiensi memori dan waktu komputasi CPU."
   ]
  },
  {
   "cell_type": "markdown",
   "metadata": {},
   "source": [
    "### **Metode Jacobi**"
   ]
  },
  {
   "cell_type": "code",
   "execution_count": 8,
   "metadata": {},
   "outputs": [
    {
     "name": "stdout",
     "output_type": "stream",
     "text": [
      "Approximate solution: [ 1.0001  1.9998 -0.9998  0.9998]\n"
     ]
    }
   ],
   "source": [
    "import numpy as np\n",
    "\n",
    "def jacobi_iteration(A, b, X0, TOL, N):\n",
    "    n = len(b)\n",
    "    X = X0.copy()\n",
    "    k=1\n",
    "    for k in range(N):\n",
    "        X_new = np.zeros(n)\n",
    "        for i in range(n):\n",
    "            sigma = sum([A[i, j] * X[j] for j in range(n) if j != i])\n",
    "            X_new[i] = round((b[i] - sigma) / A[i, i],4)\n",
    "        if np.linalg.norm(X_new - X, ord=2)/np.linalg.norm(X_new, ord=2) < TOL:\n",
    "            return X_new\n",
    "        X = X_new\n",
    "    print(\"Maximum number of iterations exceeded\")\n",
    "    return X\n",
    "\n",
    "# Example:\n",
    "A = np.array([[10, -1, 2, 0], [-1, 11, -1, 3], [2, -1, 10, -1], [0, 3, -1, 8]])\n",
    "b = np.array([6, 25, -11, 15])\n",
    "X0 = np.zeros_like(b)\n",
    "TOL = 1e-3\n",
    "N = 1000\n",
    "\n",
    "solution = jacobi_iteration(A, b, X0, TOL, N)\n",
    "print(\"Approximate solution:\", solution)"
   ]
  },
  {
   "cell_type": "markdown",
   "metadata": {},
   "source": [
    "### **Metode Gauss-Seidel**"
   ]
  },
  {
   "cell_type": "code",
   "execution_count": 9,
   "metadata": {},
   "outputs": [
    {
     "name": "stdout",
     "output_type": "stream",
     "text": [
      "Solusi x: [ 1.0001  2.     -1.      1.    ]\n"
     ]
    }
   ],
   "source": [
    "import numpy as np\n",
    "\n",
    "def solve_linear_system(n, A, b, XO, TOL, N):\n",
    "    k = 1\n",
    "    while k <= N:\n",
    "        x = np.zeros(n)\n",
    "        for i in range(n):\n",
    "            x[i] = round((b[i] - np.dot(A[i, :i], x[:i]) - np.dot(A[i, i+1:], XO[i+1:])) / A[i, i],4)\n",
    "        \n",
    "        if np.linalg.norm(x - XO,ord=2)/np.linalg.norm(x, ord=2) < TOL:\n",
    "            return x  # Jika solusi sudah mendekati XO dengan toleransi TOL, kembalikan solusi\n",
    "        k += 1\n",
    "        XO = x\n",
    "    \n",
    "    return \"Jumlah iterasi maksimum telah terlampaui\"\n",
    "\n",
    "# Contoh penggunaan\n",
    "n = len(b)\n",
    "A = np.array([[10, -1, 2, 0], [-1, 11, -1, 3], [2, -1, 10, -1], [0, 3, -1, 8]])\n",
    "b = np.array([6, 25, -11, 15])\n",
    "XO = np.zeros(n)\n",
    "TOL = 1e-3\n",
    "N = 1000\n",
    "\n",
    "solution = solve_linear_system(n, A, b, XO, TOL, N)\n",
    "print(\"Solusi x:\", solution)"
   ]
  },
  {
   "cell_type": "markdown",
   "metadata": {},
   "source": [
    "### **Metode Successive Over-Relaxation (SOR)**"
   ]
  },
  {
   "cell_type": "code",
   "execution_count": 10,
   "metadata": {},
   "outputs": [
    {
     "name": "stdout",
     "output_type": "stream",
     "text": [
      "Approximate solution: [ 3  4 -5]\n"
     ]
    }
   ],
   "source": [
    "import numpy as np\n",
    "\n",
    "def SOR(A, b, XO, ω, TOL, N):\n",
    "    n = len(A)\n",
    "    x = np.copy(XO)\n",
    "    k = 1\n",
    "    \n",
    "    while k <= N:\n",
    "        for i in range(n):\n",
    "            sum1 = np.dot(A[i, :i], x[:i])\n",
    "            sum2 = np.dot(A[i, i+1:], XO[i+1:])\n",
    "            x[i] = (1 - ω) * XO[i] + (ω / A[i, i]) * (b[i] - sum1 - sum2)\n",
    "            \n",
    "        if np.linalg.norm(x - XO) < TOL:\n",
    "            return x  # The procedure was successful\n",
    "    \n",
    "        k += 1\n",
    "        XO = np.copy(x)\n",
    "    \n",
    "    print('Maximum number of iterations exceeded')\n",
    "    return None  # The procedure was unsuccessful\n",
    "\n",
    "# Example usage:\n",
    "A = np.array([[4, 3, 0],\n",
    "              [3, 4, -1],\n",
    "              [0, -1, 4]])\n",
    "b = np.array([24, 30, -24])\n",
    "XO = np.zeros_like(b)\n",
    "ω = 1.25\n",
    "TOL = 1e-7\n",
    "N = 7\n",
    "\n",
    "solution = SOR(A, b, XO, ω, TOL, N)\n",
    "if solution is not None:\n",
    "    print(\"Approximate solution:\", solution)"
   ]
  }
 ],
 "metadata": {
  "kernelspec": {
   "display_name": "Python 3",
   "language": "python",
   "name": "python3"
  },
  "language_info": {
   "codemirror_mode": {
    "name": "ipython",
    "version": 3
   },
   "file_extension": ".py",
   "mimetype": "text/x-python",
   "name": "python",
   "nbconvert_exporter": "python",
   "pygments_lexer": "ipython3",
   "version": "3.12.0"
  }
 },
 "nbformat": 4,
 "nbformat_minor": 2
}
