{
 "cells": [
  {
   "cell_type": "markdown",
   "metadata": {},
   "source": [
    "#  <center>**BAB V : INTEGRAL**</center> \n",
    "\n",
    "**Dhiya Salma Salsabila/24923304**"
   ]
  },
  {
   "cell_type": "markdown",
   "metadata": {},
   "source": [
    "### **Metode Riemann Sums**"
   ]
  },
  {
   "cell_type": "markdown",
   "metadata": {},
   "source": [
    "#### **Metode Segi Empat**"
   ]
  },
  {
   "cell_type": "code",
   "execution_count": 7,
   "metadata": {},
   "outputs": [
    {
     "name": "stdout",
     "output_type": "stream",
     "text": [
      "Metode segi empat kiri: Nilai integral dari sin(x) di interval [0, pi] adalah sekitar 1.999998\n",
      "Metode segi empat tengah: Nilai integral dari sin(x) di interval [0, pi] adalah sekitar 2.000001\n",
      "Metode segi empat kanan: Nilai integral dari sin(x) di interval [0, pi] adalah sekitar 1.999998\n"
     ]
    }
   ],
   "source": [
    "import numpy as np\n",
    "\n",
    "def left_rectangular_method(f, a, b, n):\n",
    "    \"\"\"\n",
    "    Menghitung integral dari fungsi f di interval [a, b] menggunakan metode segi empat kiri.\n",
    "    \n",
    "    Parameters:\n",
    "    f (function): Fungsi yang akan diintegralkan.\n",
    "    a (float): Batas bawah integral.\n",
    "    b (float): Batas atas integral.\n",
    "    n (int): Jumlah subinterval.\n",
    "    \n",
    "    Returns:\n",
    "    float: Nilai pendekatan integral dari f di [a, b].\n",
    "    \"\"\"\n",
    "    h = (b - a) / n\n",
    "    integral = sum(f(a + i * h) for i in range(n))\n",
    "    return h * integral\n",
    "\n",
    "def midpoint_rectangular_method(f, a, b, n):\n",
    "    \"\"\"\n",
    "    Menghitung integral dari fungsi f di interval [a, b] menggunakan metode segi empat tengah.\n",
    "    \n",
    "    Parameters:\n",
    "    f (function): Fungsi yang akan diintegralkan.\n",
    "    a (float): Batas bawah integral.\n",
    "    b (float): Batas atas integral.\n",
    "    n (int): Jumlah subinterval.\n",
    "    \n",
    "    Returns:\n",
    "    float: Nilai pendekatan integral dari f di [a, b].\n",
    "    \"\"\"\n",
    "    h = (b - a) / n\n",
    "    integral = sum(f(a + (i + 0.5) * h) for i in range(n))\n",
    "    return h * integral\n",
    "\n",
    "def right_rectangular_method(f, a, b, n):\n",
    "    \"\"\"\n",
    "    Menghitung integral dari fungsi f di interval [a, b] menggunakan metode segi empat kanan.\n",
    "    \n",
    "    Parameters:\n",
    "    f (function): Fungsi yang akan diintegralkan.\n",
    "    a (float): Batas bawah integral.\n",
    "    b (float): Batas atas integral.\n",
    "    n (int): Jumlah subinterval.\n",
    "    \n",
    "    Returns:\n",
    "    float: Nilai pendekatan integral dari f di [a, b].\n",
    "    \"\"\"\n",
    "    h = (b - a) / n\n",
    "    integral = sum(f(a + (i + 1) * h) for i in range(n))\n",
    "    return h * integral\n",
    "\n",
    "# Contoh penggunaan\n",
    "# Misalkan kita ingin menghitung integral dari fungsi f(x) = sin(x) di interval [0, pi]\n",
    "def func(x):\n",
    "    return np.sin(x)\n",
    "\n",
    "a = 0\n",
    "b = np.pi\n",
    "n = 1000  # Jumlah subinterval\n",
    "\n",
    "# Hitung integral menggunakan ketiga metode\n",
    "integral_left = left_rectangular_method(func, a, b, n)\n",
    "integral_midpoint = midpoint_rectangular_method(func, a, b, n)\n",
    "integral_right = right_rectangular_method(func, a, b, n)\n",
    "\n",
    "print(f\"Metode segi empat kiri: Nilai integral dari sin(x) di interval [0, pi] adalah sekitar {integral_left:.6f}\")\n",
    "print(f\"Metode segi empat tengah: Nilai integral dari sin(x) di interval [0, pi] adalah sekitar {integral_midpoint:.6f}\")\n",
    "print(f\"Metode segi empat kanan: Nilai integral dari sin(x) di interval [0, pi] adalah sekitar {integral_right:.6f}\")"
   ]
  },
  {
   "cell_type": "markdown",
   "metadata": {},
   "source": [
    "#### **Metode Trapezoid**"
   ]
  },
  {
   "cell_type": "code",
   "execution_count": 8,
   "metadata": {},
   "outputs": [
    {
     "name": "stdout",
     "output_type": "stream",
     "text": [
      "Nilai integral dari sin(x) di interval [0, pi] adalah sekitar 1.999998\n"
     ]
    }
   ],
   "source": [
    "import numpy as np\n",
    "\n",
    "def trapezoid_rule(f, a, b, n):\n",
    "    \"\"\"\n",
    "    Menghitung integral dari fungsi f di interval [a, b] menggunakan metode Trapezoid.\n",
    "    \n",
    "    Parameters:\n",
    "    f (function): Fungsi yang akan diintegralkan.\n",
    "    a (float): Batas bawah integral.\n",
    "    b (float): Batas atas integral.\n",
    "    n (int): Jumlah subinterval.\n",
    "    \n",
    "    Returns:\n",
    "    float: Nilai pendekatan integral dari f di [a, b].\n",
    "    \"\"\"\n",
    "    h = (b - a) / n\n",
    "    integral = 0.5 * (f(a) + f(b))\n",
    "    for i in range(1, n):\n",
    "        integral += f(a + i * h)\n",
    "    integral *= h\n",
    "    return integral\n",
    "\n",
    "# Contoh penggunaan\n",
    "# Misalkan kita ingin menghitung integral dari fungsi f(x) = sin(x) di interval [0, pi]\n",
    "def func(x):\n",
    "    return np.sin(x)\n",
    "\n",
    "a = 0\n",
    "b = np.pi\n",
    "n = 1000  # Jumlah subinterval\n",
    "\n",
    "# Hitung integral\n",
    "integral_value = trapezoid_rule(func, a, b, n)\n",
    "\n",
    "print(f\"Nilai integral dari sin(x) di interval [0, pi] adalah sekitar {integral_value:.6f}\")"
   ]
  },
  {
   "cell_type": "markdown",
   "metadata": {},
   "source": [
    "### **Metode Simpson**"
   ]
  },
  {
   "cell_type": "markdown",
   "metadata": {},
   "source": [
    "#### **Metode Simpson 1/3**"
   ]
  },
  {
   "cell_type": "code",
   "execution_count": 9,
   "metadata": {},
   "outputs": [
    {
     "name": "stdout",
     "output_type": "stream",
     "text": [
      "Nilai integral dari sin(x) di interval [0, pi] adalah sekitar 2.000000\n"
     ]
    }
   ],
   "source": [
    "import numpy as np\n",
    "\n",
    "def simpson_13(f, a, b, n):\n",
    "    \"\"\"\n",
    "    Menghitung integral dari fungsi f di interval [a, b] menggunakan metode Simpson 1/3.\n",
    "    \n",
    "    Parameters:\n",
    "    f (function): Fungsi yang akan diintegralkan.\n",
    "    a (float): Batas bawah integral.\n",
    "    b (float): Batas atas integral.\n",
    "    n (int): Jumlah subinterval (harus genap).\n",
    "    \n",
    "    Returns:\n",
    "    float: Nilai pendekatan integral dari f di [a, b].\n",
    "    \"\"\"\n",
    "    if n % 2 == 1:\n",
    "        raise ValueError(\"Jumlah subinterval (n) harus genap.\")\n",
    "    \n",
    "    h = (b - a) / n\n",
    "    integral = f(a) + f(b)\n",
    "    \n",
    "    for i in range(1, n, 2):\n",
    "        integral += 4 * f(a + i * h)\n",
    "    for i in range(2, n, 2):\n",
    "        integral += 2 * f(a + i * h)\n",
    "    \n",
    "    integral *= h / 3\n",
    "    return integral\n",
    "\n",
    "# Contoh penggunaan\n",
    "# Misalkan kita ingin menghitung integral dari fungsi f(x) = sin(x) di interval [0, pi]\n",
    "def func(x):\n",
    "    return np.sin(x)\n",
    "\n",
    "a = 0\n",
    "b = np.pi\n",
    "n = 1000  # Jumlah subinterval (harus genap)\n",
    "\n",
    "# Hitung integral\n",
    "integral_value = simpson_13(func, a, b, n)\n",
    "\n",
    "print(f\"Nilai integral dari sin(x) di interval [0, pi] adalah sekitar {integral_value:.6f}\")"
   ]
  },
  {
   "cell_type": "markdown",
   "metadata": {},
   "source": [
    "#### **Metode Simpson 3/8**"
   ]
  },
  {
   "cell_type": "code",
   "execution_count": 10,
   "metadata": {},
   "outputs": [
    {
     "name": "stdout",
     "output_type": "stream",
     "text": [
      "Nilai integral dari sin(x) di interval [0, pi] adalah sekitar 2.000000\n"
     ]
    }
   ],
   "source": [
    "import numpy as np\n",
    "\n",
    "def simpson_38(f, a, b, n):\n",
    "    \"\"\"\n",
    "    Menghitung integral dari fungsi f di interval [a, b] menggunakan metode Simpson 3/8.\n",
    "    \n",
    "    Parameters:\n",
    "    f (function): Fungsi yang akan diintegralkan.\n",
    "    a (float): Batas bawah integral.\n",
    "    b (float): Batas atas integral.\n",
    "    n (int): Jumlah subinterval (harus kelipatan dari 3).\n",
    "    \n",
    "    Returns:\n",
    "    float: Nilai pendekatan integral dari f di [a, b].\n",
    "    \"\"\"\n",
    "    if n % 3 != 0:\n",
    "        raise ValueError(\"Jumlah subinterval (n) harus kelipatan dari 3.\")\n",
    "    \n",
    "    h = (b - a) / n\n",
    "    integral = f(a) + f(b)\n",
    "    \n",
    "    for i in range(1, n):\n",
    "        if i % 3 == 0:\n",
    "            integral += 2 * f(a + i * h)\n",
    "        else:\n",
    "            integral += 3 * f(a + i * h)\n",
    "    \n",
    "    integral *= 3 * h / 8\n",
    "    return integral\n",
    "\n",
    "# Contoh penggunaan\n",
    "# Misalkan kita ingin menghitung integral dari fungsi f(x) = sin(x) di interval [0, pi]\n",
    "def func(x):\n",
    "    return np.sin(x)\n",
    "\n",
    "a = 0\n",
    "b = np.pi\n",
    "n = 999  # Jumlah subinterval (harus kelipatan dari 3)\n",
    "\n",
    "# Hitung integral\n",
    "integral_value = simpson_38(func, a, b, n)\n",
    "\n",
    "print(f\"Nilai integral dari sin(x) di interval [0, pi] adalah sekitar {integral_value:.6f}\")"
   ]
  },
  {
   "cell_type": "markdown",
   "metadata": {},
   "source": [
    "#### **Aturan Adaptif Simpson 1/3 biasa** "
   ]
  },
  {
   "cell_type": "code",
   "execution_count": 12,
   "metadata": {},
   "outputs": [
    {
     "name": "stdout",
     "output_type": "stream",
     "text": [
      "Nilai integral dari sin(x) di interval [0, pi] adalah sekitar 1.9999999988\n"
     ]
    }
   ],
   "source": [
    "def adaptive_simpsons(f, a, b, tol, max_recursion_depth=50):\n",
    "    \"\"\"\n",
    "    Menghitung integral dari fungsi f di interval [a, b] menggunakan aturan Adaptive Simpson's Rule.\n",
    "    \n",
    "    Parameters:\n",
    "    f (function): Fungsi yang akan diintegralkan.\n",
    "    a (float): Batas bawah integral.\n",
    "    b (float): Batas atas integral.\n",
    "    tol (float): Toleransi kesalahan yang diizinkan.\n",
    "    max_recursion_depth (int): Batas maksimal kedalaman rekursi untuk mencegah rekursi tak terbatas.\n",
    "    \n",
    "    Returns:\n",
    "    float: Nilai pendekatan integral dari f di [a, b].\n",
    "    \"\"\"\n",
    "\n",
    "    def simpsons_rule(f, a, b):\n",
    "        \"\"\" Menghitung integral menggunakan aturan Simpson biasa pada interval [a, b]. \"\"\"\n",
    "        c = (a + b) / 2.0\n",
    "        h = (b - a) / 2.0\n",
    "        return (h / 3.0) * (f(a) + 4.0 * f(c) + f(b))\n",
    "\n",
    "    def adaptive_simpsons_recursive(f, a, b, tol, depth):\n",
    "        \"\"\" Rekursi pada aturan Adaptive Simpson's Rule. \"\"\"\n",
    "        c = (a + b) / 2.0\n",
    "        S = simpsons_rule(f, a, b)\n",
    "        S1 = simpsons_rule(f, a, c)\n",
    "        S2 = simpsons_rule(f, c, b)\n",
    "        E = (S1 + S2 - S) / 15.0\n",
    "        if abs(E) < tol or depth >= max_recursion_depth:\n",
    "            return S1 + S2 + E\n",
    "        else:\n",
    "            return adaptive_simpsons_recursive(f, a, c, tol / 2.0, depth + 1) + \\\n",
    "                   adaptive_simpsons_recursive(f, c, b, tol / 2.0, depth + 1)\n",
    "    \n",
    "    return adaptive_simpsons_recursive(f, a, b, tol, 0)\n",
    "\n",
    "# Contoh penggunaan\n",
    "# Misalkan kita ingin menghitung integral dari fungsi f(x) = sin(x) di interval [0, pi]\n",
    "import numpy as np\n",
    "\n",
    "def func(x):\n",
    "    return np.sin(x)\n",
    "\n",
    "a = 0\n",
    "b = np.pi\n",
    "tol = 1e-6\n",
    "\n",
    "# Hitung integral\n",
    "integral_value = adaptive_simpsons(func, a, b, tol)\n",
    "\n",
    "print(f\"Nilai integral dari sin(x) di interval [0, pi] adalah sekitar {integral_value:.10f}\")"
   ]
  },
  {
   "cell_type": "markdown",
   "metadata": {},
   "source": [
    "### **Metode Gauss-Legendre Quadrature**"
   ]
  },
  {
   "cell_type": "code",
   "execution_count": 11,
   "metadata": {},
   "outputs": [
    {
     "name": "stdout",
     "output_type": "stream",
     "text": [
      "Nilai integral dari sin(x) di interval [0, pi] adalah sekitar 2.001389\n"
     ]
    }
   ],
   "source": [
    "import numpy as np\n",
    "\n",
    "def gauss_legendre_quadrature(f, a, b, n):\n",
    "    \"\"\"\n",
    "    Menghitung integral dari fungsi f di interval [a, b] menggunakan Gauss-Legendre Quadrature.\n",
    "    \n",
    "    Parameters:\n",
    "    f (function): Fungsi yang akan diintegralkan.\n",
    "    a (float): Batas bawah integral.\n",
    "    b (float): Batas atas integral.\n",
    "    n (int): Jumlah titik Gauss (harus 2 atau 3).\n",
    "    \n",
    "    Returns:\n",
    "    float: Nilai pendekatan integral dari f di [a, b].\n",
    "    \"\"\"\n",
    "    # Titik dan bobot Gauss-Legendre untuk n = 2\n",
    "    if n == 2:\n",
    "        x = [-1/np.sqrt(3), 1/np.sqrt(3)]\n",
    "        w = [1, 1]\n",
    "    elif n == 3:\n",
    "        x = [-np.sqrt(3/5), 0, np.sqrt(3/5)]\n",
    "        w = [5/9, 8/9, 5/9]\n",
    "    else:\n",
    "        raise ValueError(\"Jumlah titik Gauss harus 2 atau 3.\")\n",
    "\n",
    "    # Perubahan variabel\n",
    "    integral = 0.0\n",
    "    for i in range(n):\n",
    "        xi = 0.5 * ((b - a) * x[i] + (b + a))\n",
    "        integral += w[i] * f(xi)\n",
    "    \n",
    "    integral *= 0.5 * (b - a)\n",
    "    return integral\n",
    "\n",
    "# Contoh penggunaan\n",
    "# Misalkan kita ingin menghitung integral dari fungsi f(x) = sin(x) di interval [0, pi]\n",
    "def func(x):\n",
    "    return np.sin(x)\n",
    "\n",
    "a = 0\n",
    "b = np.pi\n",
    "n = 3  # Jumlah titik Gauss\n",
    "\n",
    "# Hitung integral\n",
    "integral_value = gauss_legendre_quadrature(func, a, b, n)\n",
    "\n",
    "print(f\"Nilai integral dari sin(x) di interval [0, pi] adalah sekitar {integral_value:.6f}\")"
   ]
  },
  {
   "cell_type": "markdown",
   "metadata": {},
   "source": [
    "### **Aturan Romberg**"
   ]
  },
  {
   "cell_type": "code",
   "execution_count": 13,
   "metadata": {},
   "outputs": [
    {
     "name": "stdout",
     "output_type": "stream",
     "text": [
      "Iterasi 0: [np.float64(1.9236706937217898e-16)]\n",
      "Iterasi 1: [np.float64(1.5707963267948966), np.float64(2.0943951023931953)]\n",
      "Iterasi 2: [np.float64(1.8961188979370398), np.float64(2.0045597549844207), np.float64(1.9985707318238357)]\n",
      "Iterasi 3: [np.float64(1.974231601945551), np.float64(2.000269169948388), np.float64(1.999983130945986), np.float64(2.000005549979671)]\n",
      "Iterasi 4: [np.float64(1.9935703437723395), np.float64(2.0000165910479355), np.float64(1.999999752454572), np.float64(2.0000000162880416), np.float64(1.9999999945872902)]\n",
      "Iterasi 5: [np.float64(1.9983933609701445), np.float64(2.0000010333694127), np.float64(1.9999999961908446), np.float64(2.0000000000596745), np.float64(1.9999999999960338), np.float64(2.000000000001321)]\n",
      "\n",
      "Hasil integral menggunakan aturan Romberg adalah: 2.000000000001321\n",
      "\n",
      "Tabel Hasil:\n",
      "Iterasi 0: [np.float64(1.9236706937217898e-16)]\n",
      "Iterasi 1: [np.float64(1.5707963267948966), np.float64(2.0943951023931953)]\n",
      "Iterasi 2: [np.float64(1.8961188979370398), np.float64(2.0045597549844207), np.float64(1.9985707318238357)]\n",
      "Iterasi 3: [np.float64(1.974231601945551), np.float64(2.000269169948388), np.float64(1.999983130945986), np.float64(2.000005549979671)]\n",
      "Iterasi 4: [np.float64(1.9935703437723395), np.float64(2.0000165910479355), np.float64(1.999999752454572), np.float64(2.0000000162880416), np.float64(1.9999999945872902)]\n",
      "Iterasi 5: [np.float64(1.9983933609701445), np.float64(2.0000010333694127), np.float64(1.9999999961908446), np.float64(2.0000000000596745), np.float64(1.9999999999960338), np.float64(2.000000000001321)]\n"
     ]
    }
   ],
   "source": [
    "import numpy as np\n",
    "\n",
    "def f(x):\n",
    "    # Definisikan fungsi yang ingin diintegrasikan\n",
    "    return np.sin(x)\n",
    "\n",
    "def romberg_integration(f, a, b, tol=1e-6):\n",
    "    R = [[0.5 * (b - a) * (f(a) + f(b))]]  # Matriks R dengan R[0][0] sebagai integral awal menggunakan metode trapezoid\n",
    "    n = 1\n",
    "    print(f\"Iterasi 0: {R[0]}\")  # Cetak hasil awal\n",
    "    \n",
    "    while True:\n",
    "        h = (b - a) / (2 ** n)\n",
    "        sum_trapezoid = sum(f(a + (2 * k - 1) * h) for k in range(1, 2 ** (n - 1) + 1))\n",
    "        row_n = [0.5 * R[n - 1][0] + h * sum_trapezoid]\n",
    "        \n",
    "        # Ekstrapolasi Richardson\n",
    "        for m in range(1, n + 1):\n",
    "            row_n.append(row_n[m - 1] + (row_n[m - 1] - R[n - 1][m - 1]) / (4 ** m - 1))\n",
    "        \n",
    "        R.append(row_n)\n",
    "        \n",
    "        # Cetak hasil tiap iterasi\n",
    "        print(f\"Iterasi {n}: {row_n}\")\n",
    "        \n",
    "        # Periksa konvergensi\n",
    "        if abs(R[n][n] - R[n - 1][n - 1]) < tol:\n",
    "            return R[n][n], R\n",
    "        \n",
    "        n += 1\n",
    "\n",
    "# Contoh penggunaan\n",
    "a = 0  # Batas bawah\n",
    "b = np.pi  # Batas atas\n",
    "result, R = romberg_integration(f, a, b)\n",
    "print(f\"\\nHasil integral menggunakan aturan Romberg adalah: {result}\")\n",
    "\n",
    "# Cetak tabel hasil\n",
    "print(\"\\nTabel Hasil:\")\n",
    "for i, row in enumerate(R):\n",
    "    print(f\"Iterasi {i}: {row}\")"
   ]
  },
  {
   "cell_type": "markdown",
   "metadata": {},
   "source": [
    "[Sebelumnya](https://github.com/dhiyasalmas/Metode-Numerik/blob/main/BAB%20IV%2C%20Persamaan_Linier.ipynb) \n",
    "\n",
    "[Selanjutnya](https://github.com/dhiyasalmas/Metode-Numerik/blob/main/BAB%20VI%2C%20Turunan.ipynb)"
   ]
  }
 ],
 "metadata": {
  "kernelspec": {
   "display_name": "Python 3",
   "language": "python",
   "name": "python3"
  },
  "language_info": {
   "codemirror_mode": {
    "name": "ipython",
    "version": 3
   },
   "file_extension": ".py",
   "mimetype": "text/x-python",
   "name": "python",
   "nbconvert_exporter": "python",
   "pygments_lexer": "ipython3",
   "version": "3.12.0"
  }
 },
 "nbformat": 4,
 "nbformat_minor": 2
}
