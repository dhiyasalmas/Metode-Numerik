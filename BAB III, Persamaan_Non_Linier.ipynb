{
 "cells": [
  {
   "cell_type": "markdown",
   "metadata": {},
   "source": [
    "#  <center>**BAB III : PERSAMAAN NON LINIER**</center> \n",
    "\n",
    "**Dhiya Salma Salsabila/24923304**"
   ]
  },
  {
   "cell_type": "markdown",
   "metadata": {},
   "source": [
    "### **Metode Bisection**"
   ]
  },
  {
   "cell_type": "code",
   "execution_count": 2,
   "metadata": {},
   "outputs": [
    {
     "name": "stdout",
     "output_type": "stream",
     "text": [
      "Iterasi 1:\n",
      "  a = 0.5, b = 1, c = 0.75\n",
      "  f(a) = -0.229425538604203, f(b) = 0.1585290151921035, f(c) = -0.11913876002333412\n",
      "Iterasi 2:\n",
      "  a = 0.75, b = 1, c = 0.875\n",
      "  f(a) = -0.11913876002333412, f(b) = 0.1585290151921035, f(c) = -0.0019185022360270754\n",
      "Iterasi 3:\n",
      "  a = 0.875, b = 1, c = 0.9375\n",
      "  f(a) = -0.0019185022360270754, f(b) = 0.1585290151921035, f(c) = 0.07282514173930699\n",
      "Iterasi 4:\n",
      "  a = 0.875, b = 0.9375, c = 0.90625\n",
      "  f(a) = -0.0019185022360270754, f(b) = 0.07282514173930699, f(c) = 0.03409241516805106\n",
      "Iterasi 5:\n",
      "  a = 0.875, b = 0.90625, c = 0.890625\n",
      "  f(a) = -0.0019185022360270754, f(b) = 0.03409241516805106, f(c) = 0.015747912378999196\n",
      "Iterasi 6:\n",
      "  a = 0.875, b = 0.890625, c = 0.8828125\n",
      "  f(a) = -0.0019185022360270754, f(b) = 0.015747912378999196, f(c) = 0.00683009435717552\n",
      "Akar yang ditemukan: 0.8828125\n"
     ]
    }
   ],
   "source": [
    "import math\n",
    "\n",
    "def bisection(f, a, b, tol):\n",
    "    if f(a) * f(b) >= 0:\n",
    "        raise ValueError(\"f(a) and f(b) must have different signs\")\n",
    "    \n",
    "    iteration = 1\n",
    "    \n",
    "    while (b - a) / 2.0 > tol:\n",
    "        c = (a + b) / 2.0\n",
    "        fc = f(c)\n",
    "        print(f\"Iterasi {iteration}:\")\n",
    "        print(f\"  a = {a}, b = {b}, c = {c}\")\n",
    "        print(f\"  f(a) = {f(a)}, f(b) = {f(b)}, f(c) = {fc}\")\n",
    "        if fc == 0:\n",
    "            return c  # c is a root\n",
    "        elif f(a) * fc < 0:\n",
    "            b = c\n",
    "        else:\n",
    "            a = c\n",
    "        \n",
    "        iteration += 1\n",
    "    \n",
    "    c = (a + b) / 2.0\n",
    "    print(f\"Iterasi {iteration}:\")\n",
    "    print(f\"  a = {a}, b = {b}, c = {c}\")\n",
    "    print(f\"  f(a) = {f(a)}, f(b) = {f(b)}, f(c) = {f(c)}\")\n",
    "    return c\n",
    "\n",
    "# Contoh penggunaan\n",
    "f = lambda x: x**2 - math.sin(x)\n",
    "a = 0.5\n",
    "b = 1\n",
    "tol = 1e-2\n",
    "\n",
    "root = bisection(f, a, b, tol)\n",
    "print(f\"Akar yang ditemukan: {root}\")"
   ]
  },
  {
   "cell_type": "markdown",
   "metadata": {},
   "source": [
    "### **Metode Titik Tetap (Fixed Point)**"
   ]
  },
  {
   "cell_type": "code",
   "execution_count": 3,
   "metadata": {},
   "outputs": [
    {
     "name": "stdout",
     "output_type": "stream",
     "text": [
      "Titik tetap yang ditemukan: 1.4142135623746899\n"
     ]
    }
   ],
   "source": [
    "def fixed_point(g, x0, tol, max_iter):\n",
    "    x_prev = x0\n",
    "    for i in range(max_iter):\n",
    "        x_next = g(x_prev)\n",
    "        if abs(x_next - x_prev) < tol:\n",
    "            return x_next\n",
    "        x_prev = x_next\n",
    "    raise ValueError(\"Metode tidak konvergen dalam iterasi maksimum yang diberikan\")\n",
    "\n",
    "# Contoh penggunaan\n",
    "g = lambda x: (x + 2/x) / 2  # Fungsi g(x) yang dipilih sesuai dengan bentuk x = g(x)\n",
    "x0 = 2.0  # Perkiraan awal\n",
    "tol = 1e-5  # Toleransi kesalahan\n",
    "max_iter = 100  # Batas iterasi maksimum\n",
    "\n",
    "root = fixed_point(g, x0, tol, max_iter)\n",
    "print(f\"Titik tetap yang ditemukan: {root}\")"
   ]
  },
  {
   "cell_type": "markdown",
   "metadata": {},
   "source": [
    "### **Metode Newton-Raphson**"
   ]
  },
  {
   "cell_type": "code",
   "execution_count": 1,
   "metadata": {},
   "outputs": [
    {
     "name": "stdout",
     "output_type": "stream",
     "text": [
      "Iterasi ke-0: Perkiraan akar: 0.9050657737428616\n",
      "Iterasi ke-1: Perkiraan akar: 0.8776625559476823\n",
      "Iterasi ke-2: Akar yang ditemukan: 0.8776625559476823\n",
      "Akar yang ditemukan: 0.8776625559476823\n"
     ]
    }
   ],
   "source": [
    "from math import sin, cos\n",
    "\n",
    "def newton_raphson(f, df, x0, tol, max_iter):\n",
    "    x = x0\n",
    "    for i in range(max_iter):\n",
    "        fx = f(x)\n",
    "        if abs(fx) < tol:\n",
    "            print(f\"Iterasi ke-{i}: Akar yang ditemukan: {x}\")\n",
    "            return x\n",
    "        dfx = df(x)\n",
    "        if dfx == 0:\n",
    "            raise ValueError(\"Turunan fungsi adalah nol. Metode Newton-Raphson tidak dapat konvergen.\")\n",
    "        x = x - fx / dfx\n",
    "        print(f\"Iterasi ke-{i}: Perkiraan akar: {x}\")\n",
    "    raise ValueError(\"Metode Newton-Raphson tidak konvergen dalam jumlah iterasi maksimum yang ditentukan.\")\n",
    "\n",
    "# Contoh penggunaan\n",
    "f = lambda x: x**2 - sin(x)\n",
    "df = lambda x: 2*x - cos(x)\n",
    "x0 = 0.75  # Tebakan awal\n",
    "tol = 1e-2\n",
    "max_iter = 100\n",
    "\n",
    "root = newton_raphson(f, df, x0, tol, max_iter)\n",
    "print(f\"Akar yang ditemukan: {root}\")"
   ]
  },
  {
   "cell_type": "markdown",
   "metadata": {},
   "source": [
    "### **Modifikasi Metode Newton-Raphson**"
   ]
  },
  {
   "cell_type": "code",
   "execution_count": 18,
   "metadata": {},
   "outputs": [
    {
     "name": "stdout",
     "output_type": "stream",
     "text": [
      "Akar ditemukan pada: 1.5213797068045676 (iterasi ke-6)\n"
     ]
    }
   ],
   "source": [
    "def modified_newton_raphson(f, df, x0, epsilon=1e-6, N=100, m=1):\n",
    "    \"\"\"\n",
    "    Modified Newton-Raphson method.\n",
    "\n",
    "    Parameters:\n",
    "        f (function): Fungsi yang akan dicari akarnya.\n",
    "        df (function): Turunan dari fungsi f.\n",
    "        x0 (float): Tebakan awal.\n",
    "        epsilon (float): Toleransi kesalahan.\n",
    "        N (int): Jumlah iterasi maksimum.\n",
    "        m (int): Multiplicity akar (>=1).\n",
    "    \n",
    "    Returns:\n",
    "        (root, iterations): Akar hampiran dan jumlah iterasi.\n",
    "    \"\"\"\n",
    "    xk = x0\n",
    "    for k in range(1, N+1):\n",
    "        fxk = f(xk)\n",
    "        dfxk = df(xk)\n",
    "        \n",
    "        if abs(dfxk) < 1e-12:\n",
    "            raise ValueError(\"Turunan mendekati nol, metode gagal.\")\n",
    "        \n",
    "        # Formula Newton-Raphson termodifikasi\n",
    "        xk_next = xk - m * (fxk / dfxk)\n",
    "        \n",
    "        if abs(xk_next - xk) < epsilon:\n",
    "            return xk_next, k\n",
    "        \n",
    "        xk = xk_next\n",
    "    \n",
    "    raise ValueError(\"Metode tidak konvergen setelah jumlah iterasi maksimum\")\n",
    "\n",
    "\n",
    "# Contoh penggunaan\n",
    "def f(x):\n",
    "    return x**3 - x - 2\n",
    "\n",
    "def df(x):\n",
    "    return 3*x**2 - 1\n",
    "\n",
    "x0 = 1\n",
    "root, iters = modified_newton_raphson(f, df, x0, epsilon=1e-6, N=100, m=1)\n",
    "print(f\"Akar ditemukan pada: {root} (iterasi ke-{iters})\")"
   ]
  },
  {
   "cell_type": "markdown",
   "metadata": {},
   "source": [
    "### **Metode Newton-Raphson untuk Sistem Persamaan Nonlinier**"
   ]
  },
  {
   "cell_type": "code",
   "execution_count": 11,
   "metadata": {},
   "outputs": [
    {
     "name": "stdout",
     "output_type": "stream",
     "text": [
      "Konvergen pada iterasi ke-4.\n",
      "Solusi sistem persamaan nonlinier: [0.61803399 0.78615138]\n"
     ]
    }
   ],
   "source": [
    "import numpy as np\n",
    "\n",
    "def newton_raphson_system(F, J, x0, tol=1e-6, max_iter=100):\n",
    "    \"\"\"\n",
    "    Metode Newton-Raphson untuk menyelesaikan sistem persamaan nonlinier.\n",
    "\n",
    "    Parameters:\n",
    "        F (function): Fungsi yang mengembalikan vektor fungsi yang ingin diselesaikan.\n",
    "        J (function): Fungsi yang mengembalikan matriks Jacobian dari vektor fungsi F.\n",
    "        x0 (numpy.ndarray): Tebakan awal untuk solusi sistem.\n",
    "        tol (float): Toleransi untuk konvergensi.\n",
    "        max_iter (int): Jumlah maksimum iterasi.\n",
    "\n",
    "    Returns:\n",
    "        numpy.ndarray: Solusi sistem persamaan nonlinier.\n",
    "    \"\"\"\n",
    "    x = x0\n",
    "    for i in range(max_iter):\n",
    "        delta_x = np.linalg.solve(J(x), -F(x))\n",
    "        x = x + delta_x\n",
    "        if np.linalg.norm(delta_x) < tol:\n",
    "            print(f\"Konvergen pada iterasi ke-{i}.\")\n",
    "            return x\n",
    "    raise ValueError(\"Metode Newton-Raphson tidak konvergen dalam jumlah iterasi maksimum yang ditentukan.\")\n",
    "\n",
    "# Contoh penggunaan\n",
    "def F(x):\n",
    "    return np.array([\n",
    "        x[0]**2 + x[1]**2 - 1,\n",
    "        x[0] - x[1]**2\n",
    "    ])\n",
    "\n",
    "def J(x):\n",
    "    return np.array([\n",
    "        [2*x[0], 2*x[1]],\n",
    "        [1, -2*x[1]]\n",
    "    ])\n",
    "\n",
    "x0 = np.array([0.5, 0.5])  # Tebakan awal\n",
    "sol = newton_raphson_system(F, J, x0)\n",
    "print(\"Solusi sistem persamaan nonlinier:\", sol)"
   ]
  },
  {
   "cell_type": "markdown",
   "metadata": {},
   "source": [
    "[Sebelumnya](https://github.com/dhiyasalmas/Metode-Numerik/blob/main/BAB%20II%2C%20Deret_Taylor.ipynb) \n",
    "\n",
    "[Selanjutnya](https://github.com/dhiyasalmas/Metode-Numerik/blob/main/BAB%20IV%2C%20Persamaan_Linier.ipynb)"
   ]
  }
 ],
 "metadata": {
  "kernelspec": {
   "display_name": "Python 3",
   "language": "python",
   "name": "python3"
  },
  "language_info": {
   "codemirror_mode": {
    "name": "ipython",
    "version": 3
   },
   "file_extension": ".py",
   "mimetype": "text/x-python",
   "name": "python",
   "nbconvert_exporter": "python",
   "pygments_lexer": "ipython3",
   "version": "3.12.0"
  }
 },
 "nbformat": 4,
 "nbformat_minor": 2
}
